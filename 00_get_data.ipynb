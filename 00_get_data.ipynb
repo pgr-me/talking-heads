{
 "cells": [
  {
   "cell_type": "code",
   "execution_count": 1,
   "metadata": {
    "collapsed": false
   },
   "outputs": [],
   "source": [
    "import os\n",
    "from selenium import webdriver\n",
    "import pickle\n",
    "from bs4 import BeautifulSoup\n",
    "from library.utilities import *"
   ]
  },
  {
   "cell_type": "code",
   "execution_count": null,
   "metadata": {
    "collapsed": false
   },
   "outputs": [],
   "source": [
    "# lists of selected cable news shows\n",
    "fox = ['cavuto', 'thefive', 'baier', 'greta', 'kelly', 'oreilly', 'hannity']\n",
    "cnn = ['tapper', 'blitzer', 'burnett', 'cooper', 'lemon']\n",
    "msnbc = ['mtpdaily', 'wadr', 'matthews', 'hayes', 'maddow', 'odonnell']\n",
    "talking_heads = fox + cnn + msnbc\n",
    "\n",
    "for head in talking_heads:\n",
    "    path = os.path.join('data', head)\n",
    "    mkdir(path)"
   ]
  },
  {
   "cell_type": "code",
   "execution_count": 4,
   "metadata": {
    "collapsed": false
   },
   "outputs": [],
   "source": [
    "# kelly\n",
    "url = 'http://www.foxnews.com/shows/the-kelly-file/transcripts.html'\n",
    "pages = range(2, 70)\n",
    "dst = 'data/kelly/links_list.pickle'\n",
    "#get_fox_links_1(url, pages, dst)\n",
    "\n",
    "# oreilly\n",
    "base_url = 'http://www.foxnews.com/shows/the-oreilly-factor/transcripts.html'\n",
    "pages = range(0, 700, 10)\n",
    "pickle_dst = 'data/oreilly/links_list2.pickle'\n",
    "#get_fox_links(base_url, pages, pickle_dst)\n",
    "\n",
    "# hannity\n",
    "base_url = 'http://www.foxnews.com/on-air/hannity/transcripts'\n",
    "pages = range(1, 70)\n",
    "pickle_dst = 'data/hannity/links_list.pickle'\n",
    "#get_fox_links(base_url, pages, pickle_dst)\n",
    "\n",
    "# cooper ... just go to transcripts page, save entire webpage, then extract targeted links\n",
    "html_file = 'data/cooper/cooper.htm'\n",
    "pickle_dst = 'data/cooper/links_list.pickle'\n",
    "#get_cnn_links(html_file, pickle_dst)\n",
    "\n",
    "# burnett ... just go to transcripts page, save entire webpage, then extract targeted links\n",
    "html_file = 'data/burnett/burnett.htm'\n",
    "pickle_dst = 'data/burnett/links_list.pickle'\n",
    "#get_cnn_links(html_file, pickle_dst)\n",
    "\n",
    "# blitzer ... used a different approach for this set of cnn transcript links, same outcome though\n",
    "url = 'http://www.cnn.com/TRANSCRIPTS/sitroom.html'\n",
    "pickle_dst = 'data/blitzer/blitzer_half.pickle'\n",
    "#half_links = get_cnn_links(url, pickle_dst)\n",
    "#blitzer_links = ['http://www.cnn.com' + x for x in half_links]\n",
    "#pickle.dump(blitzer_links, open('data/blitzer/blitzer.pickle', \"wb\"))\n",
    "\n",
    "# MSNBC links\n",
    "years = range(2015, 2017); years\n",
    "months = range(1, 13); months\n",
    "pages = []\n",
    "for year in years:\n",
    "    for month in months:\n",
    "        page = str(year) + '/' + str(month)\n",
    "        pages.append(page)\n",
    "pages = pages[:-4]; pages\n",
    "\n",
    "filter_str = 'http://www.msnbc.com/transcripts/rachel-maddow-show/2'\n",
    "# maddow\n",
    "\n",
    "#, odonnel, hayes\n"
   ]
  },
  {
   "cell_type": "code",
   "execution_count": 23,
   "metadata": {
    "collapsed": false
   },
   "outputs": [
    {
     "data": {
      "text/plain": [
       "['2015/1',\n",
       " '2015/2',\n",
       " '2015/3',\n",
       " '2015/4',\n",
       " '2015/5',\n",
       " '2015/6',\n",
       " '2015/7',\n",
       " '2015/8',\n",
       " '2015/9',\n",
       " '2015/10',\n",
       " '2015/11',\n",
       " '2015/12',\n",
       " '2016/1',\n",
       " '2016/2',\n",
       " '2016/3',\n",
       " '2016/4',\n",
       " '2016/5',\n",
       " '2016/6',\n",
       " '2016/7',\n",
       " '2016/8']"
      ]
     },
     "execution_count": 23,
     "metadata": {},
     "output_type": "execute_result"
    }
   ],
   "source": [
    "\n",
    "years = range(2015, 2017); years\n",
    "months = range(1, 13); months\n",
    "pages = []\n",
    "for year in years:\n",
    "    for month in months:\n",
    "        page = str(year) + '/' + str(month)\n",
    "        pages.append(page)\n",
    "pages = pages[:-4]\n",
    "base_url = 'http://www.msnbc.com/transcripts/rachel-maddow-show/'\n",
    "filter_string = base_url + '2'\n",
    "pickle_dst = 'data/maddow/links_list.pickle'\n",
    "get_msnbc_links(base_url, pickle_dst, filter_str, pages)"
   ]
  },
  {
   "cell_type": "code",
   "execution_count": null,
   "metadata": {
    "collapsed": false
   },
   "outputs": [],
   "source": [
    "f = urllib2.urlopen(url)\n",
    "f.geturl()\n",
    "soup = BeautifulSoup(f, 'lxml')"
   ]
  },
  {
   "cell_type": "code",
   "execution_count": null,
   "metadata": {
    "collapsed": false
   },
   "outputs": [],
   "source": [
    "soup"
   ]
  },
  {
   "cell_type": "code",
   "execution_count": null,
   "metadata": {
    "collapsed": true
   },
   "outputs": [],
   "source": []
  }
 ],
 "metadata": {
  "kernelspec": {
   "display_name": "Python 2",
   "language": "python",
   "name": "python2"
  },
  "language_info": {
   "codemirror_mode": {
    "name": "ipython",
    "version": 2
   },
   "file_extension": ".py",
   "mimetype": "text/x-python",
   "name": "python",
   "nbconvert_exporter": "python",
   "pygments_lexer": "ipython2",
   "version": "2.7.11"
  }
 },
 "nbformat": 4,
 "nbformat_minor": 0
}
